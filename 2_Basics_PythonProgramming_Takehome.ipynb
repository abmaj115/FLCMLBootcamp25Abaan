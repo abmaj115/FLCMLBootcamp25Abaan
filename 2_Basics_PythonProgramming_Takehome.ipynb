{
  "nbformat": 4,
  "nbformat_minor": 0,
  "metadata": {
    "colab": {
      "provenance": [],
      "toc_visible": true,
      "include_colab_link": true
    },
    "kernelspec": {
      "name": "python3",
      "display_name": "Python 3"
    },
    "language_info": {
      "name": "python"
    }
  },
  "cells": [
    {
      "cell_type": "markdown",
      "metadata": {
        "id": "view-in-github",
        "colab_type": "text"
      },
      "source": [
        "<a href=\"https://colab.research.google.com/github/abmaj115/FLCMLBootcamp25Abaan/blob/main/2_Basics_PythonProgramming_Takehome.ipynb\" target=\"_parent\"><img src=\"https://colab.research.google.com/assets/colab-badge.svg\" alt=\"Open In Colab\"/></a>"
      ]
    },
    {
      "cell_type": "markdown",
      "source": [
        "# Personal Finance 101 with Python\n",
        "\n",
        "- Investing is crucial for wealth growth, financial security, and achieving long-term financial goals.\n",
        "- One of the biggest reasons to invest is the power of compounding, which allows your money to grow exponentially over time."
      ],
      "metadata": {
        "id": "BGhlVvcyZGWp"
      }
    },
    {
      "cell_type": "markdown",
      "source": [
        "### Understanding the Compounding Effect\n",
        "\n",
        "$$ A = P * \\left( 1 + \\frac{r}{n} \\right) ^{n*t}$$\n",
        "\n",
        "Where,\n",
        "\n",
        "- A  = Final amount\n",
        "- P  = Principal (initial investment)\n",
        "- r  = Annual interest rate (as a decimal)\n",
        "- n  = Times interest is compounded per year\n",
        "- t  = Time in years\n"
      ],
      "metadata": {
        "id": "zyYa0RR2L_8n"
      }
    },
    {
      "cell_type": "code",
      "execution_count": null,
      "metadata": {
        "id": "XrEjSeR5UQVl"
      },
      "outputs": [],
      "source": [
        "#@title Compound Interest Calculator\n",
        "\n",
        "#@markdown Enter the principal amount (P in $):\n",
        "principal = 1000 #@param {type:\"number\"}\n",
        "\n",
        "#@markdown Enter the annual interest rate as a percentage (r):\n",
        "interest_rate = 6 #@param {type:\"number\"}\n",
        "\n",
        "#@markdown Enter the number of times interest is compounded per year (n):\n",
        "compounding_frequency = 1 #@param {type:\"number\"}\n",
        "\n",
        "#@markdown Enter the number of years (t):\n",
        "years = 10 #@param {type:\"number\"}\n",
        "\n",
        "\n",
        "# Calculate compound interest\n",
        "# 1. Convert percentage into decimal\n",
        "interest_rate_decimal =\n",
        "\n",
        "\n",
        "# 2. Calculate the final amount (A)\n",
        "final_amount =\n",
        "\n",
        "\n",
        "# 3. Calculate the total interest earned\n",
        "total_interest =\n",
        "\n",
        "\n",
        "# Display the results\n",
        "print(\"Compound Interest Calculator Results:\")\n",
        "print(f\"Principal Amount: ${principal:.2f}\")\n",
        "print(f\"Annual Interest Rate: {interest_rate:.2f}%\")\n",
        "print(f\"Compounding Frequency: {compounding_frequency} times per year\")\n",
        "print(f\"Number of Years: {years}\")\n",
        "print(f\"Total Amount: ${final_amount:.2f}\")\n",
        "print(f\"Total Interest Earned: ${total_interest:.2f}\")\n"
      ]
    },
    {
      "cell_type": "markdown",
      "source": [
        "### Effect of starting principal (P)\n",
        "\n",
        "Write a function to calculate total amount and total interest earned for starting principal (P in $): 10, 50, 100, 500 and 1000. Assume r=5%, n=1 and t=5.\n",
        "\n",
        "Hint: Iterate over a list data structure containing 'P' values using a compound interest calculator function"
      ],
      "metadata": {
        "id": "ScJlnZfEbTUH"
      }
    },
    {
      "cell_type": "code",
      "source": [
        "# Calculate the effect of starting principal (more 'P')\n",
        "\n",
        "\n",
        "def calculateFunction():\n",
        "  values: list = [10, 50, 100, 500, 1000]\n",
        "  for P in values:\n",
        "    A = P * (1 + 0.05) ** 5\n",
        "    print(A)\n",
        "\n",
        "calculateFunction()\n"
      ],
      "metadata": {
        "id": "MICZ2cnDbrZg",
        "outputId": "647c868d-ac78-47a1-aa16-15f7e1619f49",
        "colab": {
          "base_uri": "https://localhost:8080/"
        }
      },
      "execution_count": 31,
      "outputs": [
        {
          "output_type": "stream",
          "name": "stdout",
          "text": [
            "12.762815625000004\n",
            "63.814078125000016\n",
            "127.62815625000003\n",
            "638.1407812500001\n",
            "1276.2815625000003\n"
          ]
        }
      ]
    },
    {
      "cell_type": "markdown",
      "source": [
        "#### Write a simple conclusion on what the effect of starting principal (more 'P') is on a compounding interest investment?"
      ],
      "metadata": {
        "id": "BIcD3dEecSpq"
      }
    },
    {
      "cell_type": "code",
      "source": [
        "#More p means that the amount increases by a high amount."
      ],
      "metadata": {
        "id": "gCpivos6chhj"
      },
      "execution_count": null,
      "outputs": []
    },
    {
      "cell_type": "markdown",
      "source": [
        "### Effect of starting early (more years of investing = more 't')\n",
        "\n",
        "Reuse the compounding interest calculator function above and determine the effect of more years of investing 't': 2yrs, 5yrs, 10yrs, 20yrs, 30yrs. Assume P=\\$100, r=5% and n=1."
      ],
      "metadata": {
        "id": "3Zi_t5Ftcsw1"
      }
    },
    {
      "cell_type": "code",
      "source": [
        "# Calculate the effect of starting early (more 't')\n",
        "\n",
        "def calculateFunction():\n",
        "  values: list = [2, 5, 10, 20]\n",
        "  for t in values:\n",
        "    A = 100 * (1 + 0.05) ** t\n",
        "    print(A)\n",
        "\n",
        "calculateFunction()\n",
        "\n",
        "# Going to write conclusion for question below here, since I can't above. Basically, less t means higher investing\n"
      ],
      "metadata": {
        "id": "a5jHCG7NdcBf",
        "outputId": "82da8bb9-f599-40b7-b0be-0e69f9c5ea41",
        "colab": {
          "base_uri": "https://localhost:8080/"
        }
      },
      "execution_count": 16,
      "outputs": [
        {
          "output_type": "stream",
          "name": "stdout",
          "text": [
            "110.25\n",
            "127.62815625000003\n",
            "162.8894626777442\n",
            "265.3297705144422\n"
          ]
        }
      ]
    },
    {
      "cell_type": "markdown",
      "source": [],
      "metadata": {
        "id": "tMe2H1G4pRRO"
      }
    },
    {
      "cell_type": "markdown",
      "source": [
        "#### Write a simple conclusion on what the effect of starting early (more 't') is on a compounding interest investment?\n"
      ],
      "metadata": {
        "id": "dkDFHmiNdosi"
      }
    },
    {
      "cell_type": "markdown",
      "source": [
        "### Effect of better rate of return (more 'r')\n",
        "\n",
        "Reuse the compounding interest calculator function above and determine the effect of better rate of return 'r': 2%, 5%, 8% and 10%. Assume P=$100, n=1 and t=5."
      ],
      "metadata": {
        "id": "b4HolM8adwzl"
      }
    },
    {
      "cell_type": "code",
      "source": [
        "# Calculate the effect of better rate of return (more 'r')\n",
        "\n",
        "def calculateFunction():\n",
        "  values: list = [0.02, 0.05, 0.08, 0.10]\n",
        "  for r in values:\n",
        "    A = 100 * (1 + (r)) ** 5\n",
        "    print(A)\n",
        "\n",
        "calculateFunction()\n",
        "\n",
        "# By increasing r, there compounding interest investment also increases.\n"
      ],
      "metadata": {
        "id": "pbcjQ24Kew56",
        "outputId": "ca6593aa-7e27-4031-c6b1-1cee192a6801",
        "colab": {
          "base_uri": "https://localhost:8080/"
        }
      },
      "execution_count": 17,
      "outputs": [
        {
          "output_type": "stream",
          "name": "stdout",
          "text": [
            "110.40808032\n",
            "127.62815625000003\n",
            "146.93280768000005\n",
            "161.05100000000004\n"
          ]
        }
      ]
    },
    {
      "cell_type": "markdown",
      "source": [
        "#### Write a simple conclusion on what the effect of better rate of return (more 'r') is on a compounding interest investment?"
      ],
      "metadata": {
        "id": "q5ihxgcKez4g"
      }
    },
    {
      "cell_type": "markdown",
      "source": [
        "### What happens to a compounding interest investment if you also do recurring investment (adding fixed \\$ amount in a fixed time frequency into the principal 'P')"
      ],
      "metadata": {
        "id": "8RPUEsNYe7nw"
      }
    },
    {
      "cell_type": "code",
      "source": [
        "# Write a new python function that will also take a fixed recurring deposit 'rd' every month to calculate compounding interest\n",
        "\n",
        "rd: int = 25\n",
        "\n",
        "def calculateFunction():\n",
        "  values: list = [0.02, 0.05, 0.08, 0.10]\n",
        "  for r in values:\n",
        "    A = (100 + rd) * (1 + (r)) ** 5\n",
        "    print(A)\n",
        "\n",
        "calculateFunction()\n",
        "\n",
        "# Answering the question below, the effect is that the compound interest increases.\n"
      ],
      "metadata": {
        "id": "PXVG53KdffHD",
        "outputId": "ace4c4fb-80d8-4196-8bdd-b0c14204a861",
        "colab": {
          "base_uri": "https://localhost:8080/"
        }
      },
      "execution_count": 32,
      "outputs": [
        {
          "output_type": "stream",
          "name": "stdout",
          "text": [
            "138.0101004\n",
            "159.53519531250004\n",
            "183.66600960000008\n",
            "201.31375000000006\n"
          ]
        }
      ]
    },
    {
      "cell_type": "markdown",
      "source": [
        "#### What is the effect of disciplined investing using recurring deposits?\n",
        "\n",
        "Use the new compounding interest calculator with recurring investment to calculate the effect of disciplined investing. Assume P=$100, r=5%, n=12 (monthly compounding), t=5.\n",
        "\n",
        "Calculate for different 'rd' (in $): 0, 1, 5, 10, 50, 100"
      ],
      "metadata": {
        "id": "WoKmXBp3gaeN"
      }
    },
    {
      "cell_type": "code",
      "source": [
        "# Write code to calculate the final_amount (A) for recurring deposits into monthly compounding investment\n",
        "\n",
        "def calculateFunction():\n",
        "  values: list = [0, 1, 5, 10, 50, 100]\n",
        "  for rd in values:\n",
        "    A = (100 + rd) * (1 + (0.05/12)) ** (12 * 5)\n",
        "    print(A)\n",
        "\n",
        "calculateFunction()\n",
        "\n",
        "# The effect of disciplined investing using recurring deposits is a consistently growing interest, with a growing rate of increase.\n"
      ],
      "metadata": {
        "id": "gz8NLxgzhHlU",
        "outputId": "c91d340f-2445-4508-af14-9d65bd583cbe",
        "colab": {
          "base_uri": "https://localhost:8080/"
        }
      },
      "execution_count": 23,
      "outputs": [
        {
          "output_type": "stream",
          "name": "stdout",
          "text": [
            "128.33586785035118\n",
            "129.61922652885468\n",
            "134.75266124286875\n",
            "141.1694546353863\n",
            "192.50380177552677\n",
            "256.67173570070236\n"
          ]
        }
      ]
    },
    {
      "cell_type": "markdown",
      "source": [
        "#### Write a simple conclusion on what is the effect of disciplined investing using recurring deposits?"
      ],
      "metadata": {
        "id": "HzaDkeEmhRTd"
      }
    },
    {
      "cell_type": "markdown",
      "source": [
        "### What problems/decisions that you face in life can be solved using basic Python programming? Share atleast two ideas.\n",
        "\n",
        "### Calculating a grade depending on certain outcomes, or calculating a formula with shifting variables such as in physics or math.\n"
      ],
      "metadata": {
        "id": "V1SICqGdi3bu"
      }
    },
    {
      "cell_type": "markdown",
      "source": [
        "# Final Retrospection:\n",
        "### What challenges did you face while programming with Python?\n",
        "\n",
        "I didn't face too much at the moment.\n",
        "\n",
        "### How did you overcome those challenges?\n",
        "\n",
        "^^\n",
        "\n",
        "### Mention other resources you used to solve this take-home assignment\n",
        "\n",
        "None used\n",
        "\n",
        "### Did you use any tools (like ChatGPT) to solve the issues? What are the challenges and opportunities?\n",
        "\n",
        "No\n",
        "\n",
        "### After this exercise, are you feeling excited to learn more?\n",
        "\n",
        "Yes, this was a fun excercise to test my skills and make code to answer a question\n",
        "\n",
        "\n",
        "NOTE: Save the file with your code and text answers before committing it to your new GitHub public repository. Send a link to your file on Github to the TA."
      ],
      "metadata": {
        "id": "gnnYEjdqhh7f"
      }
    },
    {
      "cell_type": "code",
      "source": [],
      "metadata": {
        "id": "8XqK3buzr5M7"
      },
      "execution_count": null,
      "outputs": []
    }
  ]
}